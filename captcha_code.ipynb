import random
import string

print(string.ascii_uppercase)
print(string.digits)

characters = string.ascii_uppercase + string.digits
print(characters)


mygenerator = [random.choice(characters) for _ in range(7)]

str1 = ''
for _ in mygenerator:
    str1+=str(_)
print(str1)


from PIL import Image
from PIL import ImageFont
from PIL import ImageDraw 

img = Image.open("black-and-white-photography-image.jpg")
draw = ImageDraw.Draw(img)
# font = ImageFont.truetype(<font-file>, <font-size>)
# font = ImageFont.truetype(Arial, 20)
# draw.text((x, y),"Sample Text",(r,g,b))
font = ImageFont.truetype("arial.ttf", 150)
draw.text((500, 500),"Sample Text",(255,255,255),font)
img.save('sample-out.jpg')
